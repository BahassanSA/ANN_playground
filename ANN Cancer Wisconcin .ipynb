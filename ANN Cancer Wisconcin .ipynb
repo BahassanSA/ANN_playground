{
 "cells": [
  {
   "cell_type": "markdown",
   "id": "43238d5b",
   "metadata": {},
   "source": [
    "## Importation des librairies"
   ]
  },
  {
   "cell_type": "code",
   "execution_count": 1,
   "id": "b1afc5b4",
   "metadata": {},
   "outputs": [],
   "source": [
    "import pandas as pd \n",
    "import numpy as np\n",
    "\n",
    "\n",
    "import matplotlib as plt\n",
    "import matplotlib.pyplot as plt #Librairie matplotlib\n",
    "\n",
    "import missingno as msno\n",
    "\n",
    "from tqdm import tqdm\n",
    "import copy as copy \n",
    "\n",
    "import seaborn as sns # Seaborn\n",
    "from sklearn.preprocessing import LabelEncoder # Pour coder les variables\n",
    "from sklearn.model_selection import train_test_split  # Pour partager les données en base d'apprentissages et de validation\n",
    "\n",
    "import tensorflow as tf\n",
    "from tensorflow.keras.models import Sequential\n",
    "from tensorflow.keras.layers import Dense\n",
    "\n"
   ]
  },
  {
   "cell_type": "markdown",
   "id": "2480f4dc",
   "metadata": {},
   "source": [
    "## Importation des données "
   ]
  },
  {
   "cell_type": "code",
   "execution_count": 2,
   "id": "f4b42629",
   "metadata": {},
   "outputs": [],
   "source": [
    "df = pd.read_csv(r\"C:/Users/bahas/Desktop/IA2/bcw_data.csv\", usecols=np.arange(1, 32))"
   ]
  },
  {
   "cell_type": "code",
   "execution_count": 3,
   "id": "fc791533",
   "metadata": {},
   "outputs": [
    {
     "data": {
      "text/html": [
       "<div>\n",
       "<style scoped>\n",
       "    .dataframe tbody tr th:only-of-type {\n",
       "        vertical-align: middle;\n",
       "    }\n",
       "\n",
       "    .dataframe tbody tr th {\n",
       "        vertical-align: top;\n",
       "    }\n",
       "\n",
       "    .dataframe thead th {\n",
       "        text-align: right;\n",
       "    }\n",
       "</style>\n",
       "<table border=\"1\" class=\"dataframe\">\n",
       "  <thead>\n",
       "    <tr style=\"text-align: right;\">\n",
       "      <th></th>\n",
       "      <th>diagnosis</th>\n",
       "      <th>radius_mean</th>\n",
       "      <th>texture_mean</th>\n",
       "      <th>perimeter_mean</th>\n",
       "      <th>area_mean</th>\n",
       "      <th>smoothness_mean</th>\n",
       "      <th>compactness_mean</th>\n",
       "      <th>concavity_mean</th>\n",
       "      <th>concave points_mean</th>\n",
       "      <th>symmetry_mean</th>\n",
       "      <th>...</th>\n",
       "      <th>radius_worst</th>\n",
       "      <th>texture_worst</th>\n",
       "      <th>perimeter_worst</th>\n",
       "      <th>area_worst</th>\n",
       "      <th>smoothness_worst</th>\n",
       "      <th>compactness_worst</th>\n",
       "      <th>concavity_worst</th>\n",
       "      <th>concave points_worst</th>\n",
       "      <th>symmetry_worst</th>\n",
       "      <th>fractal_dimension_worst</th>\n",
       "    </tr>\n",
       "  </thead>\n",
       "  <tbody>\n",
       "    <tr>\n",
       "      <th>0</th>\n",
       "      <td>M</td>\n",
       "      <td>17.99</td>\n",
       "      <td>10.38</td>\n",
       "      <td>122.80</td>\n",
       "      <td>1001.0</td>\n",
       "      <td>0.11840</td>\n",
       "      <td>0.27760</td>\n",
       "      <td>0.3001</td>\n",
       "      <td>0.14710</td>\n",
       "      <td>0.2419</td>\n",
       "      <td>...</td>\n",
       "      <td>25.38</td>\n",
       "      <td>17.33</td>\n",
       "      <td>184.60</td>\n",
       "      <td>2019.0</td>\n",
       "      <td>0.1622</td>\n",
       "      <td>0.6656</td>\n",
       "      <td>0.7119</td>\n",
       "      <td>0.2654</td>\n",
       "      <td>0.4601</td>\n",
       "      <td>0.11890</td>\n",
       "    </tr>\n",
       "    <tr>\n",
       "      <th>1</th>\n",
       "      <td>M</td>\n",
       "      <td>20.57</td>\n",
       "      <td>17.77</td>\n",
       "      <td>132.90</td>\n",
       "      <td>1326.0</td>\n",
       "      <td>0.08474</td>\n",
       "      <td>0.07864</td>\n",
       "      <td>0.0869</td>\n",
       "      <td>0.07017</td>\n",
       "      <td>0.1812</td>\n",
       "      <td>...</td>\n",
       "      <td>24.99</td>\n",
       "      <td>23.41</td>\n",
       "      <td>158.80</td>\n",
       "      <td>1956.0</td>\n",
       "      <td>0.1238</td>\n",
       "      <td>0.1866</td>\n",
       "      <td>0.2416</td>\n",
       "      <td>0.1860</td>\n",
       "      <td>0.2750</td>\n",
       "      <td>0.08902</td>\n",
       "    </tr>\n",
       "    <tr>\n",
       "      <th>2</th>\n",
       "      <td>M</td>\n",
       "      <td>19.69</td>\n",
       "      <td>21.25</td>\n",
       "      <td>130.00</td>\n",
       "      <td>1203.0</td>\n",
       "      <td>0.10960</td>\n",
       "      <td>0.15990</td>\n",
       "      <td>0.1974</td>\n",
       "      <td>0.12790</td>\n",
       "      <td>0.2069</td>\n",
       "      <td>...</td>\n",
       "      <td>23.57</td>\n",
       "      <td>25.53</td>\n",
       "      <td>152.50</td>\n",
       "      <td>1709.0</td>\n",
       "      <td>0.1444</td>\n",
       "      <td>0.4245</td>\n",
       "      <td>0.4504</td>\n",
       "      <td>0.2430</td>\n",
       "      <td>0.3613</td>\n",
       "      <td>0.08758</td>\n",
       "    </tr>\n",
       "    <tr>\n",
       "      <th>3</th>\n",
       "      <td>M</td>\n",
       "      <td>11.42</td>\n",
       "      <td>20.38</td>\n",
       "      <td>77.58</td>\n",
       "      <td>386.1</td>\n",
       "      <td>0.14250</td>\n",
       "      <td>0.28390</td>\n",
       "      <td>0.2414</td>\n",
       "      <td>0.10520</td>\n",
       "      <td>0.2597</td>\n",
       "      <td>...</td>\n",
       "      <td>14.91</td>\n",
       "      <td>26.50</td>\n",
       "      <td>98.87</td>\n",
       "      <td>567.7</td>\n",
       "      <td>0.2098</td>\n",
       "      <td>0.8663</td>\n",
       "      <td>0.6869</td>\n",
       "      <td>0.2575</td>\n",
       "      <td>0.6638</td>\n",
       "      <td>0.17300</td>\n",
       "    </tr>\n",
       "    <tr>\n",
       "      <th>4</th>\n",
       "      <td>M</td>\n",
       "      <td>20.29</td>\n",
       "      <td>14.34</td>\n",
       "      <td>135.10</td>\n",
       "      <td>1297.0</td>\n",
       "      <td>0.10030</td>\n",
       "      <td>0.13280</td>\n",
       "      <td>0.1980</td>\n",
       "      <td>0.10430</td>\n",
       "      <td>0.1809</td>\n",
       "      <td>...</td>\n",
       "      <td>22.54</td>\n",
       "      <td>16.67</td>\n",
       "      <td>152.20</td>\n",
       "      <td>1575.0</td>\n",
       "      <td>0.1374</td>\n",
       "      <td>0.2050</td>\n",
       "      <td>0.4000</td>\n",
       "      <td>0.1625</td>\n",
       "      <td>0.2364</td>\n",
       "      <td>0.07678</td>\n",
       "    </tr>\n",
       "  </tbody>\n",
       "</table>\n",
       "<p>5 rows × 31 columns</p>\n",
       "</div>"
      ],
      "text/plain": [
       "  diagnosis  radius_mean  texture_mean  perimeter_mean  area_mean  \\\n",
       "0         M        17.99         10.38          122.80     1001.0   \n",
       "1         M        20.57         17.77          132.90     1326.0   \n",
       "2         M        19.69         21.25          130.00     1203.0   \n",
       "3         M        11.42         20.38           77.58      386.1   \n",
       "4         M        20.29         14.34          135.10     1297.0   \n",
       "\n",
       "   smoothness_mean  compactness_mean  concavity_mean  concave points_mean  \\\n",
       "0          0.11840           0.27760          0.3001              0.14710   \n",
       "1          0.08474           0.07864          0.0869              0.07017   \n",
       "2          0.10960           0.15990          0.1974              0.12790   \n",
       "3          0.14250           0.28390          0.2414              0.10520   \n",
       "4          0.10030           0.13280          0.1980              0.10430   \n",
       "\n",
       "   symmetry_mean  ...  radius_worst  texture_worst  perimeter_worst  \\\n",
       "0         0.2419  ...         25.38          17.33           184.60   \n",
       "1         0.1812  ...         24.99          23.41           158.80   \n",
       "2         0.2069  ...         23.57          25.53           152.50   \n",
       "3         0.2597  ...         14.91          26.50            98.87   \n",
       "4         0.1809  ...         22.54          16.67           152.20   \n",
       "\n",
       "   area_worst  smoothness_worst  compactness_worst  concavity_worst  \\\n",
       "0      2019.0            0.1622             0.6656           0.7119   \n",
       "1      1956.0            0.1238             0.1866           0.2416   \n",
       "2      1709.0            0.1444             0.4245           0.4504   \n",
       "3       567.7            0.2098             0.8663           0.6869   \n",
       "4      1575.0            0.1374             0.2050           0.4000   \n",
       "\n",
       "   concave points_worst  symmetry_worst  fractal_dimension_worst  \n",
       "0                0.2654          0.4601                  0.11890  \n",
       "1                0.1860          0.2750                  0.08902  \n",
       "2                0.2430          0.3613                  0.08758  \n",
       "3                0.2575          0.6638                  0.17300  \n",
       "4                0.1625          0.2364                  0.07678  \n",
       "\n",
       "[5 rows x 31 columns]"
      ]
     },
     "execution_count": 3,
     "metadata": {},
     "output_type": "execute_result"
    }
   ],
   "source": [
    "df.head(5)"
   ]
  },
  {
   "cell_type": "code",
   "execution_count": 4,
   "id": "6d1b005f",
   "metadata": {},
   "outputs": [
    {
     "data": {
      "text/plain": [
       "(569, 31)"
      ]
     },
     "execution_count": 4,
     "metadata": {},
     "output_type": "execute_result"
    }
   ],
   "source": [
    "#Dimennsion de la base de données\n",
    "df.shape"
   ]
  },
  {
   "cell_type": "code",
   "execution_count": 5,
   "id": "f9a4ec69",
   "metadata": {},
   "outputs": [
    {
     "data": {
      "text/plain": [
       "Index(['diagnosis', 'radius_mean', 'texture_mean', 'perimeter_mean',\n",
       "       'area_mean', 'smoothness_mean', 'compactness_mean', 'concavity_mean',\n",
       "       'concave points_mean', 'symmetry_mean', 'fractal_dimension_mean',\n",
       "       'radius_se', 'texture_se', 'perimeter_se', 'area_se', 'smoothness_se',\n",
       "       'compactness_se', 'concavity_se', 'concave points_se', 'symmetry_se',\n",
       "       'fractal_dimension_se', 'radius_worst', 'texture_worst',\n",
       "       'perimeter_worst', 'area_worst', 'smoothness_worst',\n",
       "       'compactness_worst', 'concavity_worst', 'concave points_worst',\n",
       "       'symmetry_worst', 'fractal_dimension_worst'],\n",
       "      dtype='object')"
      ]
     },
     "execution_count": 5,
     "metadata": {},
     "output_type": "execute_result"
    }
   ],
   "source": [
    "# Variables \n",
    "df.columns"
   ]
  },
  {
   "cell_type": "code",
   "execution_count": 6,
   "id": "10b8bcba",
   "metadata": {},
   "outputs": [
    {
     "name": "stdout",
     "output_type": "stream",
     "text": [
      "<class 'pandas.core.frame.DataFrame'>\n",
      "RangeIndex: 569 entries, 0 to 568\n",
      "Data columns (total 31 columns):\n",
      " #   Column                   Non-Null Count  Dtype  \n",
      "---  ------                   --------------  -----  \n",
      " 0   diagnosis                569 non-null    object \n",
      " 1   radius_mean              569 non-null    float64\n",
      " 2   texture_mean             569 non-null    float64\n",
      " 3   perimeter_mean           569 non-null    float64\n",
      " 4   area_mean                569 non-null    float64\n",
      " 5   smoothness_mean          569 non-null    float64\n",
      " 6   compactness_mean         569 non-null    float64\n",
      " 7   concavity_mean           569 non-null    float64\n",
      " 8   concave points_mean      569 non-null    float64\n",
      " 9   symmetry_mean            569 non-null    float64\n",
      " 10  fractal_dimension_mean   569 non-null    float64\n",
      " 11  radius_se                569 non-null    float64\n",
      " 12  texture_se               569 non-null    float64\n",
      " 13  perimeter_se             569 non-null    float64\n",
      " 14  area_se                  569 non-null    float64\n",
      " 15  smoothness_se            569 non-null    float64\n",
      " 16  compactness_se           569 non-null    float64\n",
      " 17  concavity_se             569 non-null    float64\n",
      " 18  concave points_se        569 non-null    float64\n",
      " 19  symmetry_se              569 non-null    float64\n",
      " 20  fractal_dimension_se     569 non-null    float64\n",
      " 21  radius_worst             569 non-null    float64\n",
      " 22  texture_worst            569 non-null    float64\n",
      " 23  perimeter_worst          569 non-null    float64\n",
      " 24  area_worst               569 non-null    float64\n",
      " 25  smoothness_worst         569 non-null    float64\n",
      " 26  compactness_worst        569 non-null    float64\n",
      " 27  concavity_worst          569 non-null    float64\n",
      " 28  concave points_worst     569 non-null    float64\n",
      " 29  symmetry_worst           569 non-null    float64\n",
      " 30  fractal_dimension_worst  569 non-null    float64\n",
      "dtypes: float64(30), object(1)\n",
      "memory usage: 137.9+ KB\n"
     ]
    }
   ],
   "source": [
    "#Type de données \n",
    "df.info()"
   ]
  },
  {
   "cell_type": "code",
   "execution_count": 7,
   "id": "a2d58137",
   "metadata": {},
   "outputs": [
    {
     "data": {
      "text/plain": [
       "<AxesSubplot:>"
      ]
     },
     "execution_count": 7,
     "metadata": {},
     "output_type": "execute_result"
    },
    {
     "data": {
      "image/png": "[encoded data removed]",
      "text/plain": [
       "<Figure size 1800x720 with 2 Axes>"
      ]
     },
     "metadata": {
      "needs_background": "light"
     },
     "output_type": "display_data"
    }
   ],
   "source": [
    "#Matrice des valeurs manquantes\n",
    "msno.matrix(df)"
   ]
  },
  {
   "cell_type": "code",
   "execution_count": 8,
   "id": "8e23a6ce",
   "metadata": {},
   "outputs": [
    {
     "data": {
      "text/html": [
       "<div>\n",
       "<style scoped>\n",
       "    .dataframe tbody tr th:only-of-type {\n",
       "        vertical-align: middle;\n",
       "    }\n",
       "\n",
       "    .dataframe tbody tr th {\n",
       "        vertical-align: top;\n",
       "    }\n",
       "\n",
       "    .dataframe thead th {\n",
       "        text-align: right;\n",
       "    }\n",
       "</style>\n",
       "<table border=\"1\" class=\"dataframe\">\n",
       "  <thead>\n",
       "    <tr style=\"text-align: right;\">\n",
       "      <th></th>\n",
       "      <th>radius_mean</th>\n",
       "      <th>texture_mean</th>\n",
       "      <th>perimeter_mean</th>\n",
       "      <th>area_mean</th>\n",
       "      <th>smoothness_mean</th>\n",
       "      <th>compactness_mean</th>\n",
       "      <th>concavity_mean</th>\n",
       "      <th>concave points_mean</th>\n",
       "      <th>symmetry_mean</th>\n",
       "      <th>fractal_dimension_mean</th>\n",
       "      <th>...</th>\n",
       "      <th>radius_worst</th>\n",
       "      <th>texture_worst</th>\n",
       "      <th>perimeter_worst</th>\n",
       "      <th>area_worst</th>\n",
       "      <th>smoothness_worst</th>\n",
       "      <th>compactness_worst</th>\n",
       "      <th>concavity_worst</th>\n",
       "      <th>concave points_worst</th>\n",
       "      <th>symmetry_worst</th>\n",
       "      <th>fractal_dimension_worst</th>\n",
       "    </tr>\n",
       "  </thead>\n",
       "  <tbody>\n",
       "    <tr>\n",
       "      <th>count</th>\n",
       "      <td>569.000000</td>\n",
       "      <td>569.000000</td>\n",
       "      <td>569.000000</td>\n",
       "      <td>569.000000</td>\n",
       "      <td>569.000000</td>\n",
       "      <td>569.000000</td>\n",
       "      <td>569.000000</td>\n",
       "      <td>569.000000</td>\n",
       "      <td>569.000000</td>\n",
       "      <td>569.000000</td>\n",
       "      <td>...</td>\n",
       "      <td>569.000000</td>\n",
       "      <td>569.000000</td>\n",
       "      <td>569.000000</td>\n",
       "      <td>569.000000</td>\n",
       "      <td>569.000000</td>\n",
       "      <td>569.000000</td>\n",
       "      <td>569.000000</td>\n",
       "      <td>569.000000</td>\n",
       "      <td>569.000000</td>\n",
       "      <td>569.000000</td>\n",
       "    </tr>\n",
       "    <tr>\n",
       "      <th>mean</th>\n",
       "      <td>14.127292</td>\n",
       "      <td>19.289649</td>\n",
       "      <td>91.969033</td>\n",
       "      <td>654.889104</td>\n",
       "      <td>0.096360</td>\n",
       "      <td>0.104341</td>\n",
       "      <td>0.088799</td>\n",
       "      <td>0.048919</td>\n",
       "      <td>0.181162</td>\n",
       "      <td>0.062798</td>\n",
       "      <td>...</td>\n",
       "      <td>16.269190</td>\n",
       "      <td>25.677223</td>\n",
       "      <td>107.261213</td>\n",
       "      <td>880.583128</td>\n",
       "      <td>0.132369</td>\n",
       "      <td>0.254265</td>\n",
       "      <td>0.272188</td>\n",
       "      <td>0.114606</td>\n",
       "      <td>0.290076</td>\n",
       "      <td>0.083946</td>\n",
       "    </tr>\n",
       "    <tr>\n",
       "      <th>std</th>\n",
       "      <td>3.524049</td>\n",
       "      <td>4.301036</td>\n",
       "      <td>24.298981</td>\n",
       "      <td>351.914129</td>\n",
       "      <td>0.014064</td>\n",
       "      <td>0.052813</td>\n",
       "      <td>0.079720</td>\n",
       "      <td>0.038803</td>\n",
       "      <td>0.027414</td>\n",
       "      <td>0.007060</td>\n",
       "      <td>...</td>\n",
       "      <td>4.833242</td>\n",
       "      <td>6.146258</td>\n",
       "      <td>33.602542</td>\n",
       "      <td>569.356993</td>\n",
       "      <td>0.022832</td>\n",
       "      <td>0.157336</td>\n",
       "      <td>0.208624</td>\n",
       "      <td>0.065732</td>\n",
       "      <td>0.061867</td>\n",
       "      <td>0.018061</td>\n",
       "    </tr>\n",
       "    <tr>\n",
       "      <th>min</th>\n",
       "      <td>6.981000</td>\n",
       "      <td>9.710000</td>\n",
       "      <td>43.790000</td>\n",
       "      <td>143.500000</td>\n",
       "      <td>0.052630</td>\n",
       "      <td>0.019380</td>\n",
       "      <td>0.000000</td>\n",
       "      <td>0.000000</td>\n",
       "      <td>0.106000</td>\n",
       "      <td>0.049960</td>\n",
       "      <td>...</td>\n",
       "      <td>7.930000</td>\n",
       "      <td>12.020000</td>\n",
       "      <td>50.410000</td>\n",
       "      <td>185.200000</td>\n",
       "      <td>0.071170</td>\n",
       "      <td>0.027290</td>\n",
       "      <td>0.000000</td>\n",
       "      <td>0.000000</td>\n",
       "      <td>0.156500</td>\n",
       "      <td>0.055040</td>\n",
       "    </tr>\n",
       "    <tr>\n",
       "      <th>25%</th>\n",
       "      <td>11.700000</td>\n",
       "      <td>16.170000</td>\n",
       "      <td>75.170000</td>\n",
       "      <td>420.300000</td>\n",
       "      <td>0.086370</td>\n",
       "      <td>0.064920</td>\n",
       "      <td>0.029560</td>\n",
       "      <td>0.020310</td>\n",
       "      <td>0.161900</td>\n",
       "      <td>0.057700</td>\n",
       "      <td>...</td>\n",
       "      <td>13.010000</td>\n",
       "      <td>21.080000</td>\n",
       "      <td>84.110000</td>\n",
       "      <td>515.300000</td>\n",
       "      <td>0.116600</td>\n",
       "      <td>0.147200</td>\n",
       "      <td>0.114500</td>\n",
       "      <td>0.064930</td>\n",
       "      <td>0.250400</td>\n",
       "      <td>0.071460</td>\n",
       "    </tr>\n",
       "    <tr>\n",
       "      <th>50%</th>\n",
       "      <td>13.370000</td>\n",
       "      <td>18.840000</td>\n",
       "      <td>86.240000</td>\n",
       "      <td>551.100000</td>\n",
       "      <td>0.095870</td>\n",
       "      <td>0.092630</td>\n",
       "      <td>0.061540</td>\n",
       "      <td>0.033500</td>\n",
       "      <td>0.179200</td>\n",
       "      <td>0.061540</td>\n",
       "      <td>...</td>\n",
       "      <td>14.970000</td>\n",
       "      <td>25.410000</td>\n",
       "      <td>97.660000</td>\n",
       "      <td>686.500000</td>\n",
       "      <td>0.131300</td>\n",
       "      <td>0.211900</td>\n",
       "      <td>0.226700</td>\n",
       "      <td>0.099930</td>\n",
       "      <td>0.282200</td>\n",
       "      <td>0.080040</td>\n",
       "    </tr>\n",
       "    <tr>\n",
       "      <th>75%</th>\n",
       "      <td>15.780000</td>\n",
       "      <td>21.800000</td>\n",
       "      <td>104.100000</td>\n",
       "      <td>782.700000</td>\n",
       "      <td>0.105300</td>\n",
       "      <td>0.130400</td>\n",
       "      <td>0.130700</td>\n",
       "      <td>0.074000</td>\n",
       "      <td>0.195700</td>\n",
       "      <td>0.066120</td>\n",
       "      <td>...</td>\n",
       "      <td>18.790000</td>\n",
       "      <td>29.720000</td>\n",
       "      <td>125.400000</td>\n",
       "      <td>1084.000000</td>\n",
       "      <td>0.146000</td>\n",
       "      <td>0.339100</td>\n",
       "      <td>0.382900</td>\n",
       "      <td>0.161400</td>\n",
       "      <td>0.317900</td>\n",
       "      <td>0.092080</td>\n",
       "    </tr>\n",
       "    <tr>\n",
       "      <th>max</th>\n",
       "      <td>28.110000</td>\n",
       "      <td>39.280000</td>\n",
       "      <td>188.500000</td>\n",
       "      <td>2501.000000</td>\n",
       "      <td>0.163400</td>\n",
       "      <td>0.345400</td>\n",
       "      <td>0.426800</td>\n",
       "      <td>0.201200</td>\n",
       "      <td>0.304000</td>\n",
       "      <td>0.097440</td>\n",
       "      <td>...</td>\n",
       "      <td>36.040000</td>\n",
       "      <td>49.540000</td>\n",
       "      <td>251.200000</td>\n",
       "      <td>4254.000000</td>\n",
       "      <td>0.222600</td>\n",
       "      <td>1.058000</td>\n",
       "      <td>1.252000</td>\n",
       "      <td>0.291000</td>\n",
       "      <td>0.663800</td>\n",
       "      <td>0.207500</td>\n",
       "    </tr>\n",
       "  </tbody>\n",
       "</table>\n",
       "<p>8 rows × 30 columns</p>\n",
       "</div>"
      ],
      "text/plain": [
       "       radius_mean  texture_mean  perimeter_mean    area_mean  \\\n",
       "count   569.000000    569.000000      569.000000   569.000000   \n",
       "mean     14.127292     19.289649       91.969033   654.889104   \n",
       "std       3.524049      4.301036       24.298981   351.914129   \n",
       "min       6.981000      9.710000       43.790000   143.500000   \n",
       "25%      11.700000     16.170000       75.170000   420.300000   \n",
       "50%      13.370000     18.840000       86.240000   551.100000   \n",
       "75%      15.780000     21.800000      104.100000   782.700000   \n",
       "max      28.110000     39.280000      188.500000  2501.000000   \n",
       "\n",
       "       smoothness_mean  compactness_mean  concavity_mean  concave points_mean  \\\n",
       "count       569.000000        569.000000      569.000000           569.000000   \n",
       "mean          0.096360          0.104341        0.088799             0.048919   \n",
       "std           0.014064          0.052813        0.079720             0.038803   \n",
       "min           0.052630          0.019380        0.000000             0.000000   \n",
       "25%           0.086370          0.064920        0.029560             0.020310   \n",
       "50%           0.095870          0.092630        0.061540             0.033500   \n",
       "75%           0.105300          0.130400        0.130700             0.074000   \n",
       "max           0.163400          0.345400        0.426800             0.201200   \n",
       "\n",
       "       symmetry_mean  fractal_dimension_mean  ...  radius_worst  \\\n",
       "count     569.000000              569.000000  ...    569.000000   \n",
       "mean        0.181162                0.062798  ...     16.269190   \n",
       "std         0.027414                0.007060  ...      4.833242   \n",
       "min         0.106000                0.049960  ...      7.930000   \n",
       "25%         0.161900                0.057700  ...     13.010000   \n",
       "50%         0.179200                0.061540  ...     14.970000   \n",
       "75%         0.195700                0.066120  ...     18.790000   \n",
       "max         0.304000                0.097440  ...     36.040000   \n",
       "\n",
       "       texture_worst  perimeter_worst   area_worst  smoothness_worst  \\\n",
       "count     569.000000       569.000000   569.000000        569.000000   \n",
       "mean       25.677223       107.261213   880.583128          0.132369   \n",
       "std         6.146258        33.602542   569.356993          0.022832   \n",
       "min        12.020000        50.410000   185.200000          0.071170   \n",
       "25%        21.080000        84.110000   515.300000          0.116600   \n",
       "50%        25.410000        97.660000   686.500000          0.131300   \n",
       "75%        29.720000       125.400000  1084.000000          0.146000   \n",
       "max        49.540000       251.200000  4254.000000          0.222600   \n",
       "\n",
       "       compactness_worst  concavity_worst  concave points_worst  \\\n",
       "count         569.000000       569.000000            569.000000   \n",
       "mean            0.254265         0.272188              0.114606   \n",
       "std             0.157336         0.208624              0.065732   \n",
       "min             0.027290         0.000000              0.000000   \n",
       "25%             0.147200         0.114500              0.064930   \n",
       "50%             0.211900         0.226700              0.099930   \n",
       "75%             0.339100         0.382900              0.161400   \n",
       "max             1.058000         1.252000              0.291000   \n",
       "\n",
       "       symmetry_worst  fractal_dimension_worst  \n",
       "count      569.000000               569.000000  \n",
       "mean         0.290076                 0.083946  \n",
       "std          0.061867                 0.018061  \n",
       "min          0.156500                 0.055040  \n",
       "25%          0.250400                 0.071460  \n",
       "50%          0.282200                 0.080040  \n",
       "75%          0.317900                 0.092080  \n",
       "max          0.663800                 0.207500  \n",
       "\n",
       "[8 rows x 30 columns]"
      ]
     },
     "execution_count": 8,
     "metadata": {},
     "output_type": "execute_result"
    }
   ],
   "source": [
    "# La statistique desciptives\n",
    "df.describe()"
   ]
  },
  {
   "cell_type": "code",
   "execution_count": 9,
   "id": "11ba2000",
   "metadata": {},
   "outputs": [
    {
     "data": {
      "text/plain": [
       "<AxesSubplot:>"
      ]
     },
     "execution_count": 9,
     "metadata": {},
     "output_type": "execute_result"
    },
    {
     "data": {
      "image/png": "[encoded data removed]",
      "text/plain": [
       "<Figure size 432x288 with 1 Axes>"
      ]
     },
     "metadata": {
      "needs_background": "light"
     },
     "output_type": "display_data"
    }
   ],
   "source": [
    "# Histogramme des la variables d'intérêt\n",
    "df.diagnosis.hist()"
   ]
  },
  {
   "cell_type": "code",
   "execution_count": 41,
   "id": "9543068d",
   "metadata": {},
   "outputs": [
    {
     "data": {
      "text/plain": [
       "<AxesSubplot:>"
      ]
     },
     "execution_count": 41,
     "metadata": {},
     "output_type": "execute_result"
    },
    {
     "data": {
      "image/png": "[encoded data removed]",
      "text/plain": [
       "<Figure size 432x288 with 1 Axes>"
      ]
     },
     "metadata": {
      "needs_background": "light"
     },
     "output_type": "display_data"
    }
   ],
   "source": [
    "df[\"area_mean\"].hist(bins=15)"
   ]
  },
  {
   "cell_type": "code",
   "execution_count": 11,
   "id": "72d37192",
   "metadata": {},
   "outputs": [],
   "source": [
    "# Codage des variables catégorielles \n",
    "encoder = LabelEncoder()\n",
    "\n",
    "df[\"diagnosis\"] = encoder.fit_transform(df[\"diagnosis\"])"
   ]
  },
  {
   "cell_type": "code",
   "execution_count": 12,
   "id": "2abf1ce8",
   "metadata": {},
   "outputs": [
    {
     "data": {
      "text/plain": [
       "<AxesSubplot:>"
      ]
     },
     "execution_count": 12,
     "metadata": {},
     "output_type": "execute_result"
    },
    {
     "data": {
      "image/png": "[encoded data removed]",
      "text/plain": [
       "<Figure size 432x288 with 2 Axes>"
      ]
     },
     "metadata": {
      "needs_background": "light"
     },
     "output_type": "display_data"
    }
   ],
   "source": [
    "corr_mat=df.loc[:,~df.columns.isin(['id'])].corr()\n",
    "sns.heatmap(corr_mat)"
   ]
  },
  {
   "cell_type": "markdown",
   "id": "b15d8aad",
   "metadata": {},
   "source": [
    "## Variables expliquatives et expliqué"
   ]
  },
  {
   "cell_type": "code",
   "execution_count": 13,
   "id": "9730f940",
   "metadata": {},
   "outputs": [
    {
     "name": "stdout",
     "output_type": "stream",
     "text": [
      "la dimension de X est :  (569, 30)\n",
      "la dimension de y est :  (569,)\n"
     ]
    }
   ],
   "source": [
    "X = df.drop(\"diagnosis\", axis=1)\n",
    "y = df[\"diagnosis\"]\n",
    "\n",
    "print('la dimension de X est : ', X.shape)\n",
    "print (\"la dimension de y est : \", y.shape)"
   ]
  },
  {
   "cell_type": "code",
   "execution_count": 14,
   "id": "6fa2ae25",
   "metadata": {},
   "outputs": [],
   "source": [
    "from sklearn.preprocessing import StandardScaler\n",
    "scaler = StandardScaler()\n",
    "X_scaled = scaler.fit(X)"
   ]
  },
  {
   "cell_type": "markdown",
   "id": "355c2d4d",
   "metadata": {},
   "source": [
    "## Perceptron Keras"
   ]
  },
  {
   "cell_type": "code",
   "execution_count": 15,
   "id": "060ac25b",
   "metadata": {},
   "outputs": [],
   "source": [
    "# define the keras model\n",
    "model = Sequential()\n",
    "model.add(Dense(12, input_shape=(30,), activation='relu'))\n",
    "model.add(Dense(8, activation='relu'))\n",
    "model.add(Dense(1, activation='sigmoid'))"
   ]
  },
  {
   "cell_type": "code",
   "execution_count": 16,
   "id": "0edfad99",
   "metadata": {},
   "outputs": [],
   "source": [
    "# compile the keras model\n",
    "model.compile(loss='binary_crossentropy', optimizer='adam', metrics=['accuracy'])"
   ]
  },
  {
   "cell_type": "code",
   "execution_count": 17,
   "id": "ef841e38",
   "metadata": {},
   "outputs": [
    {
     "name": "stdout",
     "output_type": "stream",
     "text": [
      "Epoch 1/200\n",
      "57/57 [==============================] - 0s 1ms/step - loss: 7.1583 - accuracy: 0.3585\n",
      "Epoch 2/200\n",
      "57/57 [==============================] - 0s 1ms/step - loss: 2.2769 - accuracy: 0.5518\n",
      "Epoch 3/200\n",
      "57/57 [==============================] - 0s 1ms/step - loss: 1.0320 - accuracy: 0.7206\n",
      "Epoch 4/200\n",
      "57/57 [==============================] - 0s 1ms/step - loss: 0.6618 - accuracy: 0.8120\n",
      "Epoch 5/200\n",
      "57/57 [==============================] - 0s 1ms/step - loss: 0.4757 - accuracy: 0.8682\n",
      "Epoch 6/200\n",
      "57/57 [==============================] - 0s 1ms/step - loss: 0.3718 - accuracy: 0.8629\n",
      "Epoch 7/200\n",
      "57/57 [==============================] - 0s 1ms/step - loss: 0.4208 - accuracy: 0.8717\n",
      "Epoch 8/200\n",
      "57/57 [==============================] - 0s 1ms/step - loss: 0.3899 - accuracy: 0.8805\n",
      "Epoch 9/200\n",
      "57/57 [==============================] - 0s 1ms/step - loss: 0.2753 - accuracy: 0.9016\n",
      "Epoch 10/200\n",
      "57/57 [==============================] - 0s 1ms/step - loss: 0.3133 - accuracy: 0.8981\n",
      "Epoch 11/200\n",
      "57/57 [==============================] - 0s 1ms/step - loss: 0.3673 - accuracy: 0.8752\n",
      "Epoch 12/200\n",
      "57/57 [==============================] - 0s 978us/step - loss: 0.3163 - accuracy: 0.8963\n",
      "Epoch 13/200\n",
      "57/57 [==============================] - 0s 993us/step - loss: 0.2744 - accuracy: 0.9069\n",
      "Epoch 14/200\n",
      "57/57 [==============================] - 0s 983us/step - loss: 0.2423 - accuracy: 0.9139\n",
      "Epoch 15/200\n",
      "57/57 [==============================] - 0s 843us/step - loss: 0.3276 - accuracy: 0.8928\n",
      "Epoch 16/200\n",
      "57/57 [==============================] - 0s 888us/step - loss: 0.2962 - accuracy: 0.8998\n",
      "Epoch 17/200\n",
      "57/57 [==============================] - 0s 876us/step - loss: 0.2092 - accuracy: 0.9227\n",
      "Epoch 18/200\n",
      "57/57 [==============================] - 0s 877us/step - loss: 0.3284 - accuracy: 0.8858\n",
      "Epoch 19/200\n",
      "57/57 [==============================] - 0s 877us/step - loss: 0.2265 - accuracy: 0.9227\n",
      "Epoch 20/200\n",
      "57/57 [==============================] - 0s 891us/step - loss: 0.2300 - accuracy: 0.9139\n",
      "Epoch 21/200\n",
      "57/57 [==============================] - 0s 874us/step - loss: 0.2336 - accuracy: 0.9139\n",
      "Epoch 22/200\n",
      "57/57 [==============================] - 0s 876us/step - loss: 0.2694 - accuracy: 0.9104\n",
      "Epoch 23/200\n",
      "57/57 [==============================] - 0s 1ms/step - loss: 0.2368 - accuracy: 0.9086\n",
      "Epoch 24/200\n",
      "57/57 [==============================] - 0s 983us/step - loss: 0.2304 - accuracy: 0.9033\n",
      "Epoch 25/200\n",
      "57/57 [==============================] - 0s 1ms/step - loss: 0.2481 - accuracy: 0.9033\n",
      "Epoch 26/200\n",
      "57/57 [==============================] - 0s 983us/step - loss: 0.3164 - accuracy: 0.8822\n",
      "Epoch 27/200\n",
      "57/57 [==============================] - 0s 983us/step - loss: 0.3227 - accuracy: 0.9033\n",
      "Epoch 28/200\n",
      "57/57 [==============================] - 0s 842us/step - loss: 0.2673 - accuracy: 0.8963\n",
      "Epoch 29/200\n",
      "57/57 [==============================] - 0s 828us/step - loss: 0.1908 - accuracy: 0.9227\n",
      "Epoch 30/200\n",
      "57/57 [==============================] - 0s 967us/step - loss: 0.2264 - accuracy: 0.9209\n",
      "Epoch 31/200\n",
      "57/57 [==============================] - 0s 885us/step - loss: 0.2568 - accuracy: 0.9051\n",
      "Epoch 32/200\n",
      "57/57 [==============================] - 0s 877us/step - loss: 0.2495 - accuracy: 0.9139\n",
      "Epoch 33/200\n",
      "57/57 [==============================] - 0s 1ms/step - loss: 0.3576 - accuracy: 0.8928\n",
      "Epoch 34/200\n",
      "57/57 [==============================] - 0s 876us/step - loss: 0.2150 - accuracy: 0.9156\n",
      "Epoch 35/200\n",
      "57/57 [==============================] - 0s 877us/step - loss: 0.2042 - accuracy: 0.9315\n",
      "Epoch 36/200\n",
      "57/57 [==============================] - 0s 983us/step - loss: 0.1785 - accuracy: 0.9297\n",
      "Epoch 37/200\n",
      "57/57 [==============================] - 0s 923us/step - loss: 0.2393 - accuracy: 0.9121\n",
      "Epoch 38/200\n",
      "57/57 [==============================] - 0s 876us/step - loss: 0.2482 - accuracy: 0.9121\n",
      "Epoch 39/200\n",
      "57/57 [==============================] - 0s 888us/step - loss: 0.2145 - accuracy: 0.9279\n",
      "Epoch 40/200\n",
      "57/57 [==============================] - 0s 876us/step - loss: 0.2270 - accuracy: 0.9104\n",
      "Epoch 41/200\n",
      "57/57 [==============================] - 0s 1ms/step - loss: 0.1813 - accuracy: 0.9244\n",
      "Epoch 42/200\n",
      "57/57 [==============================] - 0s 983us/step - loss: 0.1935 - accuracy: 0.9227\n",
      "Epoch 43/200\n",
      "57/57 [==============================] - 0s 842us/step - loss: 0.2312 - accuracy: 0.9174\n",
      "Epoch 44/200\n",
      "57/57 [==============================] - 0s 965us/step - loss: 0.2460 - accuracy: 0.9051\n",
      "Epoch 45/200\n",
      "57/57 [==============================] - 0s 1ms/step - loss: 0.1717 - accuracy: 0.9367\n",
      "Epoch 46/200\n",
      "57/57 [==============================] - 0s 983us/step - loss: 0.2112 - accuracy: 0.9227\n",
      "Epoch 47/200\n",
      "57/57 [==============================] - 0s 922us/step - loss: 0.1694 - accuracy: 0.9332\n",
      "Epoch 48/200\n",
      "57/57 [==============================] - 0s 843us/step - loss: 0.1756 - accuracy: 0.9297\n",
      "Epoch 49/200\n",
      "57/57 [==============================] - 0s 857us/step - loss: 0.2150 - accuracy: 0.9104\n",
      "Epoch 50/200\n",
      "57/57 [==============================] - 0s 1ms/step - loss: 0.2039 - accuracy: 0.9192\n",
      "Epoch 51/200\n",
      "57/57 [==============================] - 0s 888us/step - loss: 0.2779 - accuracy: 0.8928\n",
      "Epoch 52/200\n",
      "57/57 [==============================] - 0s 877us/step - loss: 0.2020 - accuracy: 0.9192\n",
      "Epoch 53/200\n",
      "57/57 [==============================] - 0s 912us/step - loss: 0.1824 - accuracy: 0.9244\n",
      "Epoch 54/200\n",
      "57/57 [==============================] - 0s 853us/step - loss: 0.1957 - accuracy: 0.9244\n",
      "Epoch 55/200\n",
      "57/57 [==============================] - 0s 878us/step - loss: 0.2050 - accuracy: 0.9174\n",
      "Epoch 56/200\n",
      "57/57 [==============================] - 0s 887us/step - loss: 0.1781 - accuracy: 0.9244\n",
      "Epoch 57/200\n",
      "57/57 [==============================] - 0s 876us/step - loss: 0.4189 - accuracy: 0.8576\n",
      "Epoch 58/200\n",
      "57/57 [==============================] - 0s 1ms/step - loss: 0.4270 - accuracy: 0.8664\n",
      "Epoch 59/200\n",
      "57/57 [==============================] - 0s 842us/step - loss: 0.5058 - accuracy: 0.8717\n",
      "Epoch 60/200\n",
      "57/57 [==============================] - 0s 841us/step - loss: 0.3261 - accuracy: 0.8998\n",
      "Epoch 61/200\n",
      "57/57 [==============================] - 0s 918us/step - loss: 0.3992 - accuracy: 0.8787\n",
      "Epoch 62/200\n",
      "57/57 [==============================] - 0s 842us/step - loss: 0.3059 - accuracy: 0.9069\n",
      "Epoch 63/200\n",
      "57/57 [==============================] - 0s 1ms/step - loss: 0.2088 - accuracy: 0.9279\n",
      "Epoch 64/200\n",
      "57/57 [==============================] - 0s 1ms/step - loss: 0.1800 - accuracy: 0.9297\n",
      "Epoch 65/200\n",
      "57/57 [==============================] - 0s 842us/step - loss: 0.2029 - accuracy: 0.9174\n",
      "Epoch 66/200\n",
      "57/57 [==============================] - 0s 922us/step - loss: 0.3734 - accuracy: 0.8981\n",
      "Epoch 67/200\n",
      "57/57 [==============================] - 0s 842us/step - loss: 0.2195 - accuracy: 0.9156\n",
      "Epoch 68/200\n",
      "57/57 [==============================] - 0s 1ms/step - loss: 0.1961 - accuracy: 0.9350\n",
      "Epoch 69/200\n",
      "57/57 [==============================] - 0s 1ms/step - loss: 0.1625 - accuracy: 0.9402\n",
      "Epoch 70/200\n",
      "57/57 [==============================] - 0s 842us/step - loss: 0.3260 - accuracy: 0.9051\n",
      "Epoch 71/200\n",
      "57/57 [==============================] - 0s 1ms/step - loss: 0.3387 - accuracy: 0.9033\n",
      "Epoch 72/200\n",
      "57/57 [==============================] - 0s 876us/step - loss: 0.1894 - accuracy: 0.9297\n",
      "Epoch 73/200\n",
      "57/57 [==============================] - 0s 877us/step - loss: 0.1612 - accuracy: 0.9402\n",
      "Epoch 74/200\n",
      "57/57 [==============================] - 0s 1ms/step - loss: 0.2558 - accuracy: 0.9016\n",
      "Epoch 75/200\n",
      "57/57 [==============================] - 0s 998us/step - loss: 0.1380 - accuracy: 0.9350\n",
      "Epoch 76/200\n",
      "57/57 [==============================] - 0s 1ms/step - loss: 0.2507 - accuracy: 0.9069\n",
      "Epoch 77/200\n",
      "57/57 [==============================] - 0s 844us/step - loss: 0.2280 - accuracy: 0.9297\n",
      "Epoch 78/200\n",
      "57/57 [==============================] - 0s 1ms/step - loss: 0.1970 - accuracy: 0.9315\n",
      "Epoch 79/200\n",
      "57/57 [==============================] - 0s 842us/step - loss: 0.1779 - accuracy: 0.9315\n",
      "Epoch 80/200\n",
      "57/57 [==============================] - 0s 923us/step - loss: 0.1551 - accuracy: 0.9332\n",
      "Epoch 81/200\n",
      "57/57 [==============================] - 0s 877us/step - loss: 0.1674 - accuracy: 0.9420\n",
      "Epoch 82/200\n",
      "57/57 [==============================] - 0s 887us/step - loss: 0.2182 - accuracy: 0.9279\n",
      "Epoch 83/200\n",
      "57/57 [==============================] - 0s 876us/step - loss: 0.1313 - accuracy: 0.9367\n",
      "Epoch 84/200\n",
      "57/57 [==============================] - 0s 1ms/step - loss: 0.1875 - accuracy: 0.9279\n",
      "Epoch 85/200\n",
      "57/57 [==============================] - 0s 1ms/step - loss: 0.1903 - accuracy: 0.9262\n",
      "Epoch 86/200\n",
      "57/57 [==============================] - 0s 877us/step - loss: 0.2215 - accuracy: 0.9315\n",
      "Epoch 87/200\n",
      "57/57 [==============================] - 0s 1ms/step - loss: 0.1692 - accuracy: 0.9367\n",
      "Epoch 88/200\n",
      "57/57 [==============================] - 0s 983us/step - loss: 0.1793 - accuracy: 0.9315\n",
      "Epoch 89/200\n",
      "57/57 [==============================] - 0s 924us/step - loss: 0.1952 - accuracy: 0.9192\n",
      "Epoch 90/200\n",
      "57/57 [==============================] - 0s 1ms/step - loss: 0.2805 - accuracy: 0.9174\n",
      "Epoch 91/200\n",
      "57/57 [==============================] - 0s 983us/step - loss: 0.3457 - accuracy: 0.8998\n",
      "Epoch 92/200\n",
      "57/57 [==============================] - 0s 862us/step - loss: 0.1647 - accuracy: 0.9297\n",
      "Epoch 93/200\n",
      "57/57 [==============================] - 0s 953us/step - loss: 0.1713 - accuracy: 0.9350\n",
      "Epoch 94/200\n",
      "57/57 [==============================] - 0s 872us/step - loss: 0.1488 - accuracy: 0.9367\n",
      "Epoch 95/200\n",
      "57/57 [==============================] - 0s 876us/step - loss: 0.1815 - accuracy: 0.9367\n",
      "Epoch 96/200\n",
      "57/57 [==============================] - 0s 877us/step - loss: 0.2624 - accuracy: 0.9121\n",
      "Epoch 97/200\n",
      "57/57 [==============================] - 0s 876us/step - loss: 0.2463 - accuracy: 0.9192\n",
      "Epoch 98/200\n",
      "57/57 [==============================] - 0s 985us/step - loss: 0.2052 - accuracy: 0.9279\n",
      "Epoch 99/200\n",
      "57/57 [==============================] - 0s 921us/step - loss: 0.1746 - accuracy: 0.9350\n",
      "Epoch 100/200\n",
      "57/57 [==============================] - 0s 880us/step - loss: 0.1906 - accuracy: 0.9350\n",
      "Epoch 101/200\n",
      "57/57 [==============================] - 0s 1ms/step - loss: 0.2361 - accuracy: 0.9227\n",
      "Epoch 102/200\n",
      "57/57 [==============================] - 0s 877us/step - loss: 0.2380 - accuracy: 0.9086\n",
      "Epoch 103/200\n",
      "57/57 [==============================] - 0s 876us/step - loss: 0.3660 - accuracy: 0.8928\n",
      "Epoch 104/200\n",
      "57/57 [==============================] - 0s 890us/step - loss: 0.1370 - accuracy: 0.9473\n",
      "Epoch 105/200\n",
      "57/57 [==============================] - 0s 875us/step - loss: 0.2317 - accuracy: 0.9279\n",
      "Epoch 106/200\n",
      "57/57 [==============================] - 0s 876us/step - loss: 0.1955 - accuracy: 0.9262\n",
      "Epoch 107/200\n",
      "57/57 [==============================] - 0s 877us/step - loss: 0.1938 - accuracy: 0.9227\n",
      "Epoch 108/200\n",
      "57/57 [==============================] - 0s 1ms/step - loss: 0.1744 - accuracy: 0.9402\n",
      "Epoch 109/200\n",
      "57/57 [==============================] - 0s 992us/step - loss: 0.1522 - accuracy: 0.9332\n",
      "Epoch 110/200\n",
      "57/57 [==============================] - 0s 983us/step - loss: 0.1638 - accuracy: 0.9385\n",
      "Epoch 111/200\n",
      "57/57 [==============================] - 0s 983us/step - loss: 0.1704 - accuracy: 0.9297\n",
      "Epoch 112/200\n",
      "57/57 [==============================] - 0s 956us/step - loss: 0.1472 - accuracy: 0.9385\n",
      "Epoch 113/200\n",
      "57/57 [==============================] - 0s 1ms/step - loss: 0.2221 - accuracy: 0.9315\n",
      "Epoch 114/200\n",
      "57/57 [==============================] - 0s 760us/step - loss: 0.1943 - accuracy: 0.9332\n",
      "Epoch 115/200\n",
      "57/57 [==============================] - 0s 1ms/step - loss: 0.1742 - accuracy: 0.9350\n",
      "Epoch 116/200\n",
      "57/57 [==============================] - 0s 983us/step - loss: 0.1956 - accuracy: 0.9279\n",
      "Epoch 117/200\n",
      "57/57 [==============================] - 0s 921us/step - loss: 0.2941 - accuracy: 0.9086\n",
      "Epoch 118/200\n",
      "57/57 [==============================] - 0s 842us/step - loss: 0.2237 - accuracy: 0.9139\n",
      "Epoch 119/200\n",
      "57/57 [==============================] - 0s 1ms/step - loss: 0.1770 - accuracy: 0.9332\n",
      "Epoch 120/200\n",
      "57/57 [==============================] - 0s 844us/step - loss: 0.1298 - accuracy: 0.9525\n",
      "Epoch 121/200\n",
      "57/57 [==============================] - 0s 1ms/step - loss: 0.3840 - accuracy: 0.8875\n",
      "Epoch 122/200\n",
      "57/57 [==============================] - 0s 983us/step - loss: 0.2417 - accuracy: 0.9227\n",
      "Epoch 123/200\n",
      "57/57 [==============================] - 0s 912us/step - loss: 0.1852 - accuracy: 0.9279\n",
      "Epoch 124/200\n",
      "57/57 [==============================] - 0s 852us/step - loss: 0.2054 - accuracy: 0.9279\n",
      "Epoch 125/200\n",
      "57/57 [==============================] - 0s 1ms/step - loss: 0.1704 - accuracy: 0.9332\n",
      "Epoch 126/200\n",
      "57/57 [==============================] - 0s 876us/step - loss: 0.1228 - accuracy: 0.9508\n",
      "Epoch 127/200\n",
      "57/57 [==============================] - 0s 1ms/step - loss: 0.1785 - accuracy: 0.9297\n",
      "Epoch 128/200\n",
      "57/57 [==============================] - 0s 983us/step - loss: 0.2150 - accuracy: 0.9332\n",
      "Epoch 129/200\n",
      "57/57 [==============================] - 0s 783us/step - loss: 0.2681 - accuracy: 0.9104\n",
      "Epoch 130/200\n",
      "57/57 [==============================] - 0s 875us/step - loss: 0.1891 - accuracy: 0.9315\n",
      "Epoch 131/200\n",
      "57/57 [==============================] - 0s 1ms/step - loss: 0.2532 - accuracy: 0.9139\n",
      "Epoch 132/200\n",
      "57/57 [==============================] - 0s 983us/step - loss: 0.1839 - accuracy: 0.9279\n",
      "Epoch 133/200\n",
      "57/57 [==============================] - 0s 1ms/step - loss: 0.1609 - accuracy: 0.9367\n",
      "Epoch 134/200\n",
      "57/57 [==============================] - 0s 1ms/step - loss: 0.1438 - accuracy: 0.9473\n",
      "Epoch 135/200\n",
      "57/57 [==============================] - 0s 983us/step - loss: 0.1649 - accuracy: 0.9367\n",
      "Epoch 136/200\n",
      "57/57 [==============================] - 0s 983us/step - loss: 0.1266 - accuracy: 0.9473\n",
      "Epoch 137/200\n",
      "57/57 [==============================] - 0s 1ms/step - loss: 0.2485 - accuracy: 0.9086\n",
      "Epoch 138/200\n",
      "57/57 [==============================] - 0s 1ms/step - loss: 0.1750 - accuracy: 0.9350\n",
      "Epoch 139/200\n",
      "57/57 [==============================] - 0s 1ms/step - loss: 0.1558 - accuracy: 0.9402\n",
      "Epoch 140/200\n",
      "57/57 [==============================] - 0s 933us/step - loss: 0.1535 - accuracy: 0.9332\n",
      "Epoch 141/200\n",
      "57/57 [==============================] - 0s 983us/step - loss: 0.1495 - accuracy: 0.9455\n",
      "Epoch 142/200\n",
      "57/57 [==============================] - 0s 1ms/step - loss: 0.2095 - accuracy: 0.9244\n",
      "Epoch 143/200\n",
      "57/57 [==============================] - 0s 1ms/step - loss: 0.1284 - accuracy: 0.9455\n",
      "Epoch 144/200\n",
      "57/57 [==============================] - 0s 1ms/step - loss: 0.1886 - accuracy: 0.9332\n",
      "Epoch 145/200\n",
      "57/57 [==============================] - 0s 983us/step - loss: 0.1841 - accuracy: 0.9279\n",
      "Epoch 146/200\n",
      "57/57 [==============================] - 0s 986us/step - loss: 0.1385 - accuracy: 0.9455\n",
      "Epoch 147/200\n",
      "57/57 [==============================] - 0s 1ms/step - loss: 0.1378 - accuracy: 0.9508\n",
      "Epoch 148/200\n",
      "57/57 [==============================] - 0s 1ms/step - loss: 0.1726 - accuracy: 0.9262\n",
      "Epoch 149/200\n",
      "57/57 [==============================] - 0s 1ms/step - loss: 0.1535 - accuracy: 0.9402\n",
      "Epoch 150/200\n",
      "57/57 [==============================] - 0s 1ms/step - loss: 0.2177 - accuracy: 0.9227\n",
      "Epoch 151/200\n",
      "57/57 [==============================] - 0s 914us/step - loss: 0.1590 - accuracy: 0.9332\n",
      "Epoch 152/200\n",
      "57/57 [==============================] - 0s 984us/step - loss: 0.1447 - accuracy: 0.9473\n",
      "Epoch 153/200\n",
      "57/57 [==============================] - 0s 1ms/step - loss: 0.1642 - accuracy: 0.9350\n",
      "Epoch 154/200\n",
      "57/57 [==============================] - 0s 842us/step - loss: 0.2451 - accuracy: 0.9279\n",
      "Epoch 155/200\n",
      "57/57 [==============================] - 0s 983us/step - loss: 0.1229 - accuracy: 0.9420\n",
      "Epoch 156/200\n",
      "57/57 [==============================] - 0s 999us/step - loss: 0.1342 - accuracy: 0.9525\n",
      "Epoch 157/200\n",
      "57/57 [==============================] - 0s 1ms/step - loss: 0.1844 - accuracy: 0.9367\n",
      "Epoch 158/200\n",
      "57/57 [==============================] - 0s 842us/step - loss: 0.2289 - accuracy: 0.9174\n",
      "Epoch 159/200\n",
      "57/57 [==============================] - 0s 1ms/step - loss: 0.2118 - accuracy: 0.9350\n",
      "Epoch 160/200\n",
      "57/57 [==============================] - 0s 983us/step - loss: 0.1414 - accuracy: 0.9438\n",
      "Epoch 161/200\n"
     ]
    },
    {
     "name": "stdout",
     "output_type": "stream",
     "text": [
      "57/57 [==============================] - 0s 888us/step - loss: 0.1574 - accuracy: 0.9420\n",
      "Epoch 162/200\n",
      "57/57 [==============================] - 0s 877us/step - loss: 0.1443 - accuracy: 0.9385\n",
      "Epoch 163/200\n",
      "57/57 [==============================] - 0s 876us/step - loss: 0.1637 - accuracy: 0.9350\n",
      "Epoch 164/200\n",
      "57/57 [==============================] - 0s 877us/step - loss: 0.1136 - accuracy: 0.9508\n",
      "Epoch 165/200\n",
      "57/57 [==============================] - 0s 878us/step - loss: 0.2365 - accuracy: 0.9174\n",
      "Epoch 166/200\n",
      "57/57 [==============================] - 0s 1ms/step - loss: 0.1347 - accuracy: 0.9455\n",
      "Epoch 167/200\n",
      "57/57 [==============================] - 0s 983us/step - loss: 0.3549 - accuracy: 0.8946\n",
      "Epoch 168/200\n",
      "57/57 [==============================] - 0s 842us/step - loss: 0.2402 - accuracy: 0.9297\n",
      "Epoch 169/200\n",
      "57/57 [==============================] - 0s 834us/step - loss: 0.2256 - accuracy: 0.9174\n",
      "Epoch 170/200\n",
      "57/57 [==============================] - 0s 853us/step - loss: 0.1259 - accuracy: 0.9490\n",
      "Epoch 171/200\n",
      "57/57 [==============================] - 0s 877us/step - loss: 0.1629 - accuracy: 0.9332\n",
      "Epoch 172/200\n",
      "57/57 [==============================] - 0s 877us/step - loss: 0.1941 - accuracy: 0.9297\n",
      "Epoch 173/200\n",
      "57/57 [==============================] - 0s 877us/step - loss: 0.1308 - accuracy: 0.9473\n",
      "Epoch 174/200\n",
      "57/57 [==============================] - 0s 1ms/step - loss: 0.3177 - accuracy: 0.9121\n",
      "Epoch 175/200\n",
      "57/57 [==============================] - 0s 982us/step - loss: 0.1338 - accuracy: 0.9420\n",
      "Epoch 176/200\n",
      "57/57 [==============================] - 0s 983us/step - loss: 0.2143 - accuracy: 0.9209\n",
      "Epoch 177/200\n",
      "57/57 [==============================] - 0s 982us/step - loss: 0.2932 - accuracy: 0.8998\n",
      "Epoch 178/200\n",
      "57/57 [==============================] - 0s 842us/step - loss: 0.1670 - accuracy: 0.9402\n",
      "Epoch 179/200\n",
      "57/57 [==============================] - 0s 982us/step - loss: 0.1284 - accuracy: 0.9543\n",
      "Epoch 180/200\n",
      "57/57 [==============================] - 0s 983us/step - loss: 0.2411 - accuracy: 0.9262\n",
      "Epoch 181/200\n",
      "57/57 [==============================] - 0s 846us/step - loss: 0.1294 - accuracy: 0.9578\n",
      "Epoch 182/200\n",
      "57/57 [==============================] - 0s 842us/step - loss: 0.1685 - accuracy: 0.9420\n",
      "Epoch 183/200\n",
      "57/57 [==============================] - 0s 872us/step - loss: 0.1263 - accuracy: 0.9525\n",
      "Epoch 184/200\n",
      "57/57 [==============================] - 0s 876us/step - loss: 0.1511 - accuracy: 0.9578\n",
      "Epoch 185/200\n",
      "57/57 [==============================] - 0s 1ms/step - loss: 0.2384 - accuracy: 0.9192\n",
      "Epoch 186/200\n",
      "57/57 [==============================] - 0s 1ms/step - loss: 0.1920 - accuracy: 0.9262\n",
      "Epoch 187/200\n",
      "57/57 [==============================] - 0s 983us/step - loss: 0.2213 - accuracy: 0.9297\n",
      "Epoch 188/200\n",
      "57/57 [==============================] - 0s 983us/step - loss: 0.1348 - accuracy: 0.9420\n",
      "Epoch 189/200\n",
      "57/57 [==============================] - 0s 983us/step - loss: 0.1799 - accuracy: 0.9279\n",
      "Epoch 190/200\n",
      "57/57 [==============================] - 0s 982us/step - loss: 0.2024 - accuracy: 0.9315\n",
      "Epoch 191/200\n",
      "57/57 [==============================] - 0s 983us/step - loss: 0.1884 - accuracy: 0.9367\n",
      "Epoch 192/200\n",
      "57/57 [==============================] - 0s 841us/step - loss: 0.1542 - accuracy: 0.9473\n",
      "Epoch 193/200\n",
      "57/57 [==============================] - 0s 877us/step - loss: 0.1545 - accuracy: 0.9420\n",
      "Epoch 194/200\n",
      "57/57 [==============================] - 0s 877us/step - loss: 0.1625 - accuracy: 0.9438\n",
      "Epoch 195/200\n",
      "57/57 [==============================] - 0s 1ms/step - loss: 0.1723 - accuracy: 0.9297\n",
      "Epoch 196/200\n",
      "57/57 [==============================] - 0s 983us/step - loss: 0.1980 - accuracy: 0.9227\n",
      "Epoch 197/200\n",
      "57/57 [==============================] - 0s 983us/step - loss: 0.1347 - accuracy: 0.9438\n",
      "Epoch 198/200\n",
      "57/57 [==============================] - 0s 982us/step - loss: 0.1507 - accuracy: 0.9420\n",
      "Epoch 199/200\n",
      "57/57 [==============================] - 0s 983us/step - loss: 0.2218 - accuracy: 0.9315\n",
      "Epoch 200/200\n",
      "57/57 [==============================] - 0s 983us/step - loss: 0.2165 - accuracy: 0.9192\n"
     ]
    },
    {
     "data": {
      "text/plain": [
       "<tensorflow.python.keras.callbacks.History at 0x1df0873cac0>"
      ]
     },
     "execution_count": 17,
     "metadata": {},
     "output_type": "execute_result"
    }
   ],
   "source": [
    "# fit the keras model on the dataset\n",
    "model.fit(X, y, epochs=200, batch_size=10)"
   ]
  },
  {
   "cell_type": "code",
   "execution_count": 18,
   "id": "d3954b9f",
   "metadata": {},
   "outputs": [
    {
     "name": "stdout",
     "output_type": "stream",
     "text": [
      "18/18 [==============================] - 0s 1ms/step - loss: 0.1585 - accuracy: 0.9455\n",
      "Accuracy: 94.55\n"
     ]
    }
   ],
   "source": [
    "# evaluate the keras model\n",
    "_, accuracy = model.evaluate(X, y)\n",
    "print('Accuracy: %.2f' % (accuracy*100))"
   ]
  },
  {
   "cell_type": "code",
   "execution_count": 19,
   "id": "4f2ebf40",
   "metadata": {},
   "outputs": [],
   "source": [
    "# make probability predictions with the model\n",
    "y_pred = model.predict(X)"
   ]
  },
  {
   "cell_type": "code",
   "execution_count": null,
   "id": "71e7456a",
   "metadata": {},
   "outputs": [],
   "source": []
  },
  {
   "cell_type": "code",
   "execution_count": 20,
   "id": "c3b5a8d8",
   "metadata": {},
   "outputs": [],
   "source": [
    "predictions1 = (y_pred > 0.5).astype(int)"
   ]
  },
  {
   "cell_type": "code",
   "execution_count": 21,
   "id": "5ef74392",
   "metadata": {},
   "outputs": [
    {
     "name": "stdout",
     "output_type": "stream",
     "text": [
      "count 0 = 388\n",
      "count 1 = 181\n"
     ]
    }
   ],
   "source": [
    "print(\"count 0 = {}\".format(np.count_nonzero(predictions1 == 0)))\n",
    "print(\"count 1 = {}\".format(np.count_nonzero(predictions1 == 1)))"
   ]
  },
  {
   "cell_type": "code",
   "execution_count": 22,
   "id": "8f606ddb",
   "metadata": {},
   "outputs": [
    {
     "data": {
      "text/plain": [
       "<AxesSubplot:>"
      ]
     },
     "execution_count": 22,
     "metadata": {},
     "output_type": "execute_result"
    },
    {
     "data": {
      "image/png": "[encoded data removed]",
      "text/plain": [
       "<Figure size 432x288 with 2 Axes>"
      ]
     },
     "metadata": {
      "needs_background": "light"
     },
     "output_type": "display_data"
    }
   ],
   "source": [
    "# Calcul de la matrice de confusion \n",
    "conf_matrix = tf.math.confusion_matrix(labels=y, predictions=predictions1)\n",
    "\n",
    "# Représentation graphique de la matrice de confusion\n",
    "sns.heatmap(conf_matrix, annot= True)"
   ]
  },
  {
   "cell_type": "code",
   "execution_count": 23,
   "id": "43b20529",
   "metadata": {},
   "outputs": [
    {
     "data": {
      "text/plain": [
       "<matplotlib.legend.Legend at 0x1df09d5ddf0>"
      ]
     },
     "execution_count": 23,
     "metadata": {},
     "output_type": "execute_result"
    },
    {
     "data": {
      "image/png": "[encoded data removed]",
      "text/plain": [
       "<Figure size 432x288 with 1 Axes>"
      ]
     },
     "metadata": {
      "needs_background": "light"
     },
     "output_type": "display_data"
    }
   ],
   "source": [
    "plt.title('Performance du model de Keras')\n",
    "\n",
    "plt.plot(list(y_pred)[:100], label='Prediction')\n",
    "plt.plot(list(y)[:100], label='True')\n",
    "plt.legend()"
   ]
  },
  {
   "cell_type": "markdown",
   "id": "603a673e",
   "metadata": {},
   "source": [
    "## Perceptron Numpy"
   ]
  },
  {
   "cell_type": "code",
   "execution_count": 24,
   "id": "8bbac67b",
   "metadata": {},
   "outputs": [
    {
     "name": "stdout",
     "output_type": "stream",
     "text": [
      "(569, 30) (569,)\n"
     ]
    }
   ],
   "source": [
    "Y = np.array(df.pop(\"diagnosis\"))\n",
    "X = np.array(df)\n",
    "print(X.shape, Y.shape)"
   ]
  },
  {
   "cell_type": "code",
   "execution_count": 45,
   "id": "c601d760",
   "metadata": {},
   "outputs": [
    {
     "name": "stdout",
     "output_type": "stream",
     "text": [
      "(30, 569) (1, 569)\n"
     ]
    }
   ],
   "source": [
    "X = copy.deepcopy(X.T)\n",
    "Y = copy.deepcopy(Y.reshape(-1,1).T)\n",
    "print(X.shape, Y.shape)"
   ]
  },
  {
   "cell_type": "code",
   "execution_count": 26,
   "id": "426a30d2",
   "metadata": {},
   "outputs": [
    {
     "name": "stdout",
     "output_type": "stream",
     "text": [
      "The size of the input layer is: n_x = 30\n",
      "The size of the hidden layer is: n_h = 8\n",
      "The size of the output layer is: n_y = 1\n"
     ]
    }
   ],
   "source": [
    "def layer_sizes(U, V, n_h=8):\n",
    "    \"\"\"\n",
    "    Arguments:\n",
    "    X -- input dataset of shape (input size, number of examples)\n",
    "    Y -- labels of shape (output size, number of examples)\n",
    "    \n",
    "    Returns:\n",
    "    n_x -- the size of the input layer\n",
    "    n_h -- the size of the hidden layer\n",
    "    n_y -- the size of the output layer\n",
    "    \"\"\"\n",
    "\n",
    "    n_x = U.shape[0] # size of input layer\n",
    "    n_h = n_h\n",
    "    n_y = V.reshape(-1,1).T.shape[0] # size of output layer\n",
    "\n",
    "    return (n_x, n_h, n_y)\n",
    "(n_x, n_h, n_y) = layer_sizes(X, Y)\n",
    "print(\"The size of the input layer is: n_x = \" + str(n_x))\n",
    "print(\"The size of the hidden layer is: n_h = \" + str(n_h))\n",
    "print(\"The size of the output layer is: n_y = \" + str(n_y))\n"
   ]
  },
  {
   "cell_type": "code",
   "execution_count": 27,
   "id": "a12f79b1",
   "metadata": {},
   "outputs": [],
   "source": [
    "def initialize_parameters(n_x, n_h, n_y):\n",
    "    \"\"\"\n",
    "    Argument:\n",
    "    n_x -- size of the input layer\n",
    "    n_h -- size of the hidden layer\n",
    "    n_y -- size of the output layer\n",
    "    \n",
    "    Returns:\n",
    "    params -- python dictionary containing your parameters:\n",
    "                    W1 -- weight matrix of shape (n_h, n_x)\n",
    "                    b1 -- bias vector of shape (n_h, 1)\n",
    "                    W2 -- weight matrix of shape (n_y, n_h)\n",
    "                    b2 -- bias vector of shape (n_y, 1)\n",
    "    \"\"\"\n",
    "    \n",
    "    np.random.seed(42) # we set up a seed so that your output matches ours although the initialization is random.\n",
    "\n",
    "    W1 = np.random.randn(n_h, n_x) * 0.01\n",
    "    b1 = np.zeros((n_h,1))\n",
    "    \n",
    "    W2 = np.random.randn(n_y, n_h) * 0.01\n",
    "    b2 = np.zeros((n_y,1))\n",
    "    \n",
    "    assert (W1.shape == (n_h, n_x))\n",
    "    assert (b1.shape == (n_h, 1))\n",
    "    assert (W2.shape == (n_y, n_h))\n",
    "    assert (b2.shape == (n_y, 1))\n",
    "    \n",
    "    parameters = {\"W1\": W1,\n",
    "                  \"b1\": b1,\n",
    "                  \"W2\": W2,\n",
    "                  \"b2\": b2}\n",
    "    \n",
    "    return parameters"
   ]
  },
  {
   "cell_type": "code",
   "execution_count": 28,
   "id": "9778103b",
   "metadata": {},
   "outputs": [],
   "source": [
    "def sigmoid(U):\n",
    "    z = 1/(1 + np.exp(-U))\n",
    "    return z"
   ]
  },
  {
   "cell_type": "code",
   "execution_count": 29,
   "id": "b2b249af",
   "metadata": {},
   "outputs": [],
   "source": [
    "def forward_propagation(U, parameters):\n",
    "    \"\"\"\n",
    "    Argument:\n",
    "    X -- input data of size (n_x, m)\n",
    "    parameters -- python dictionary containing your parameters (output of initialization function)\n",
    "    \n",
    "    Returns:\n",
    "    A2 -- The sigmoid output of the second activation\n",
    "    cache -- a dictionary containing \"Z1\", \"A1\", \"Z2\" and \"A2\"\n",
    "    \"\"\"\n",
    "    # Retrieve each parameter from the dictionary \"parameters\"\n",
    "    W1 = parameters['W1']\n",
    "    b1 = parameters['b1']\n",
    "    W2 = parameters['W2']\n",
    "    b2 = parameters['b2']\n",
    "    \n",
    "    ### END CODE HERE ###\n",
    "    \n",
    "    # Implement Forward Propagation\n",
    "    Z1 = np.dot(W1,U) + b1\n",
    "    A1 = np.tanh(Z1)\n",
    "    Z2 = np.dot(W2,A1) + b2\n",
    "    A2 = sigmoid(Z2)\n",
    "    \n",
    "    assert(A2.shape == (1, U.shape[1]))\n",
    "    \n",
    "    cache = {\"Z1\": Z1,\n",
    "             \"A1\": A1,\n",
    "             \"Z2\": Z2,\n",
    "             \"A2\": A2}\n",
    "    \n",
    "    return A2, cache"
   ]
  },
  {
   "cell_type": "code",
   "execution_count": 30,
   "id": "73e3cd8a",
   "metadata": {},
   "outputs": [],
   "source": [
    "def compute_cost(A2, V):\n",
    "    \"\"\"\n",
    "    Computes the cross-entropy cost given in equation (13)\n",
    "    \n",
    "    Arguments:\n",
    "    A2 -- The sigmoid output of the second activation, of shape (1, number of examples)\n",
    "    Y -- \"true\" labels vector of shape (1, number of examples)\n",
    "    \n",
    "    Returns:\n",
    "    cost -- cross-entropy cost given equation (13)\n",
    "    \"\"\"\n",
    "    \n",
    "    m = V.shape[1] # number of example\n",
    "\n",
    "    # Compute the cross-entropy cost\n",
    "    logprobs = np.dot(V,np.log(A2).T) + np.dot((1-V),np.log((1-A2)).T)\n",
    "    cost = -logprobs/m\n",
    "\n",
    "    cost = float(np.squeeze(cost))  # makes sure cost is the dimension we expect. E.g., turns [[17]] into 17 \n",
    "    assert(isinstance(cost, float))\n",
    "    \n",
    "    return cost"
   ]
  },
  {
   "cell_type": "code",
   "execution_count": 31,
   "id": "c474b00e",
   "metadata": {},
   "outputs": [],
   "source": [
    "def backward_propagation(parameters, cache, U, V):\n",
    "    \"\"\"\n",
    "    Implement the backward propagation using the instructions above.\n",
    "    \n",
    "    Arguments:\n",
    "    parameters -- python dictionary containing our parameters \n",
    "    cache -- a dictionary containing \"Z1\", \"A1\", \"Z2\" and \"A2\".\n",
    "    X -- input data of shape (2, number of examples)\n",
    "    Y -- \"true\" labels vector of shape (1, number of examples)\n",
    "    \n",
    "    Returns:\n",
    "    grads -- python dictionary containing your gradients with respect to different parameters\n",
    "    \"\"\"\n",
    "    m = U.shape[1]\n",
    "    \n",
    "    # First, retrieve W1 and W2 from the dictionary \"parameters\".\n",
    "    W1 = parameters['W1']\n",
    "    W2 = parameters['W2']\n",
    "\n",
    "    # Retrieve also A1 and A2 from dictionary \"cache\".\n",
    "    A1 = cache['A1']\n",
    "    A2 = cache['A2']\n",
    "\n",
    "    # Backward propagation: calculate dW1, db1, dW2, db2. \n",
    "    dZ2 = A2 - V\n",
    "    dW2 = (1/m) * np.dot(dZ2,A1.T)\n",
    "    db2 = (1/m) * np.sum(dZ2,axis=1, keepdims=True)\n",
    "    dZ1 = np.dot(W2.T, dZ2) * (1 - np.power(A1, 2))\n",
    "    dW1 = (1/m) * np.dot(dZ1, U.T)\n",
    "    db1 = (1/m) * np.sum(dZ1, axis=1, keepdims=True)\n",
    "\n",
    "    grads = {\"dW1\": dW1,\n",
    "             \"db1\": db1,\n",
    "             \"dW2\": dW2,\n",
    "             \"db2\": db2}\n",
    "    \n",
    "    return grads"
   ]
  },
  {
   "cell_type": "code",
   "execution_count": 32,
   "id": "77daec9a",
   "metadata": {},
   "outputs": [],
   "source": [
    "def update_parameters(parameters, grads, learning_rate = 0.3):\n",
    "    \"\"\"\n",
    "    Updates parameters using the gradient descent update rule given above\n",
    "    \n",
    "    Arguments:\n",
    "    parameters -- python dictionary containing your parameters \n",
    "    grads -- python dictionary containing your gradients \n",
    "    \n",
    "    Returns:\n",
    "    parameters -- python dictionary containing your updated parameters \n",
    "    \"\"\"\n",
    "    # Retrieve each parameter from the dictionary \"parameters\"\n",
    "    W1 = parameters['W1']\n",
    "    b1 = parameters['b1']\n",
    "    W2 = parameters['W2']\n",
    "    b2 = parameters['b2']\n",
    "\n",
    "    # Retrieve each gradient from the dictionary \"grads\"\n",
    "    dW1 = grads['dW1']\n",
    "    db1 = grads['db1']\n",
    "    dW2 = grads['dW2']\n",
    "    db2 = grads['db2']\n",
    "\n",
    "    # Update rule for each parameter\n",
    "    W1 = W1 - learning_rate*dW1\n",
    "    b1 = b1 - learning_rate*db1\n",
    "    W2 = W2 - learning_rate*dW2\n",
    "    b2 = b2 - learning_rate*db2\n",
    "\n",
    "    parameters = {\"W1\": W1,\n",
    "                  \"b1\": b1,\n",
    "                  \"W2\": W2,\n",
    "                  \"b2\": b2}\n",
    "    \n",
    "    return parameters"
   ]
  },
  {
   "cell_type": "code",
   "execution_count": 33,
   "id": "1f2eb019",
   "metadata": {},
   "outputs": [],
   "source": [
    "def nn_model(U, V, n_h, num_iterations = 200, print_cost=False):\n",
    "    \"\"\"\n",
    "    Arguments:\n",
    "    X -- dataset of shape (2, number of examples)\n",
    "    Y -- labels of shape (1, number of examples)\n",
    "    n_h -- size of the hidden layer\n",
    "    num_iterations -- Number of iterations in gradient descent loop\n",
    "    print_cost -- if True, print the cost every 1000 iterations\n",
    "    \n",
    "    Returns:\n",
    "    parameters -- parameters learnt by the model. They can then be used to predict.\n",
    "    \"\"\"\n",
    "    \n",
    "    np.random.seed(42)\n",
    "    n_x, n_h, n_y = layer_sizes(U, V, n_h=n_h)\n",
    "    \n",
    "    # Initialize parameters\n",
    "    parameters = initialize_parameters(n_x, n_h, n_y)\n",
    "    \n",
    "    # Loop (gradient descent)\n",
    "    for i in range(0, num_iterations):\n",
    "         \n",
    "        # Forward propagation. Inputs: \"X, parameters\". Outputs: \"A2, cache\".\n",
    "        A2, cache = forward_propagation(U, parameters)\n",
    "        \n",
    "        # Cost function. Inputs: \"A2, Y, parameters\". Outputs: \"cost\".\n",
    "        cost = compute_cost(A2, V)\n",
    " \n",
    "        # Backpropagation. Inputs: \"parameters, cache, X, Y\". Outputs: \"grads\".\n",
    "        grads = backward_propagation(parameters, cache, U, V)\n",
    " \n",
    "        # Gradient descent parameter update. Inputs: \"parameters, grads\". Outputs: \"parameters\".\n",
    "        parameters = update_parameters(parameters, grads, learning_rate = 0.2)\n",
    "\n",
    "        # Print the cost every 100 iterations\n",
    "        if print_cost and i % 32 == 0:\n",
    "            print (\"Cost after iteration %i: %f\" %(i, cost))\n",
    "\n",
    "    return parameters"
   ]
  },
  {
   "cell_type": "code",
   "execution_count": 34,
   "id": "360c83e0",
   "metadata": {},
   "outputs": [],
   "source": [
    "def predict(parameters, U):\n",
    "    \"\"\"\n",
    "    Using the learned parameters, predicts a class for each example in X\n",
    "    \n",
    "    Arguments:\n",
    "    parameters -- python dictionary containing your parameters \n",
    "    X -- input data of size (n_x, m)\n",
    "    \n",
    "    Returns\n",
    "    predictions -- vector of predictions of our model (red: 0 / blue: 1)\n",
    "    \"\"\"\n",
    "    \n",
    "    # Computes probabilities using forward propagation, and classifies to 0/1 using 0.5 as the threshold.\n",
    "    A2, cache = forward_propagation(U, parameters)\n",
    "    threshold = 0.5 \n",
    "    predictions = (A2 >= 0.5).astype(int)#(A2 > threshold)\n",
    "    \n",
    "    return predictions"
   ]
  },
  {
   "cell_type": "code",
   "execution_count": 35,
   "id": "71316733",
   "metadata": {},
   "outputs": [
    {
     "name": "stdout",
     "output_type": "stream",
     "text": [
      "Cost after iteration 0: 0.692942\n",
      "Cost after iteration 32: 0.660318\n",
      "Cost after iteration 64: 0.660317\n",
      "Cost after iteration 96: 0.660317\n",
      "Cost after iteration 128: 0.660317\n",
      "Cost after iteration 160: 0.660317\n",
      "Cost after iteration 192: 0.660317\n"
     ]
    }
   ],
   "source": [
    "parameters = nn_model(X, Y, n_h = 8, num_iterations = 200, print_cost=True)"
   ]
  },
  {
   "cell_type": "code",
   "execution_count": 36,
   "id": "8496a2d4",
   "metadata": {},
   "outputs": [
    {
     "data": {
      "text/plain": [
       "array([[0, 0, 0, 0, 0, 0, 0, 0, 0, 0, 0, 0, 0, 0, 0, 0, 0, 0, 0, 0, 0, 0,\n",
       "        0, 0, 0, 0, 0, 0, 0, 0, 0, 0, 0, 0, 0, 0, 0, 0, 0, 0, 0, 0, 0, 0,\n",
       "        0, 0, 0, 0, 0, 0, 0, 0, 0, 0, 0, 0, 0, 0, 0, 0, 0, 0, 0, 0, 0, 0,\n",
       "        0, 0, 0, 0, 0, 0, 0, 0, 0, 0, 0, 0, 0, 0, 0, 0, 0, 0, 0, 0, 0, 0,\n",
       "        0, 0, 0, 0, 0, 0, 0, 0, 0, 0, 0, 0, 0, 0, 0, 0, 0, 0, 0, 0, 0, 0,\n",
       "        0, 0, 0, 0, 0, 0, 0, 0, 0, 0, 0, 0, 0, 0, 0, 0, 0, 0, 0, 0, 0, 0,\n",
       "        0, 0, 0, 0, 0, 0, 0, 0, 0, 0, 0, 0, 0, 0, 0, 0, 0, 0, 0, 0, 0, 0,\n",
       "        0, 0, 0, 0, 0, 0, 0, 0, 0, 0, 0, 0, 0, 0, 0, 0, 0, 0, 0, 0, 0, 0,\n",
       "        0, 0, 0, 0, 0, 0, 0, 0, 0, 0, 0, 0, 0, 0, 0, 0, 0, 0, 0, 0, 0, 0,\n",
       "        0, 0, 0, 0, 0, 0, 0, 0, 0, 0, 0, 0, 0, 0, 0, 0, 0, 0, 0, 0, 0, 0,\n",
       "        0, 0, 0, 0, 0, 0, 0, 0, 0, 0, 0, 0, 0, 0, 0, 0, 0, 0, 0, 0, 0, 0,\n",
       "        0, 0, 0, 0, 0, 0, 0, 0, 0, 0, 0, 0, 0, 0, 0, 0, 0, 0, 0, 0, 0, 0,\n",
       "        0, 0, 0, 0, 0, 0, 0, 0, 0, 0, 0, 0, 0, 0, 0, 0, 0, 0, 0, 0, 0, 0,\n",
       "        0, 0, 0, 0, 0, 0, 0, 0, 0, 0, 0, 0, 0, 0, 0, 0, 0, 0, 0, 0, 0, 0,\n",
       "        0, 0, 0, 0, 0, 0, 0, 0, 0, 0, 0, 0, 0, 0, 0, 0, 0, 0, 0, 0, 0, 0,\n",
       "        0, 0, 0, 0, 0, 0, 0, 0, 0, 0, 0, 0, 0, 0, 0, 0, 0, 0, 0, 0, 0, 0,\n",
       "        0, 0, 0, 0, 0, 0, 0, 0, 0, 0, 0, 0, 0, 0, 0, 0, 0, 0, 0, 0, 0, 0,\n",
       "        0, 0, 0, 0, 0, 0, 0, 0, 0, 0, 0, 0, 0, 0, 0, 0, 0, 0, 0, 0, 0, 0,\n",
       "        0, 0, 0, 0, 0, 0, 0, 0, 0, 0, 0, 0, 0, 0, 0, 0, 0, 0, 0, 0, 0, 0,\n",
       "        0, 0, 0, 0, 0, 0, 0, 0, 0, 0, 0, 0, 0, 0, 0, 0, 0, 0, 0, 0, 0, 0,\n",
       "        0, 0, 0, 0, 0, 0, 0, 0, 0, 0, 0, 0, 0, 0, 0, 0, 0, 0, 0, 0, 0, 0,\n",
       "        0, 0, 0, 0, 0, 0, 0, 0, 0, 0, 0, 0, 0, 0, 0, 0, 0, 0, 0, 0, 0, 0,\n",
       "        0, 0, 0, 0, 0, 0, 0, 0, 0, 0, 0, 0, 0, 0, 0, 0, 0, 0, 0, 0, 0, 0,\n",
       "        0, 0, 0, 0, 0, 0, 0, 0, 0, 0, 0, 0, 0, 0, 0, 0, 0, 0, 0, 0, 0, 0,\n",
       "        0, 0, 0, 0, 0, 0, 0, 0, 0, 0, 0, 0, 0, 0, 0, 0, 0, 0, 0, 0, 0, 0,\n",
       "        0, 0, 0, 0, 0, 0, 0, 0, 0, 0, 0, 0, 0, 0, 0, 0, 0, 0, 0]])"
      ]
     },
     "execution_count": 36,
     "metadata": {},
     "output_type": "execute_result"
    }
   ],
   "source": [
    "y_predL = predict(parameters, X)\n",
    "y_predL"
   ]
  },
  {
   "cell_type": "code",
   "execution_count": 53,
   "id": "968372c1",
   "metadata": {},
   "outputs": [
    {
     "data": {
      "text/plain": [
       "{'W1': array([[ 8.75649355e-03,  4.28155991e-03,  3.07566464e-02,\n",
       "          1.52443429e-01, -2.31157070e-03, -2.31688787e-03,\n",
       "          1.58043329e-02,  7.68133508e-03, -4.63827227e-03,\n",
       "          5.44617184e-03, -4.55145472e-03, -4.26297854e-03,\n",
       "          2.99886408e-03, -1.33398840e-02, -1.72467946e-02,\n",
       "         -5.61628553e-03, -1.01206322e-02,  3.14547771e-03,\n",
       "         -9.07341469e-03, -1.41218776e-02,  1.87872869e-02,\n",
       "          5.12438064e-03,  2.74027005e-02,  1.48083385e-01,\n",
       "         -5.40348486e-03,  1.16308098e-03, -1.14643936e-02,\n",
       "          3.77817261e-03, -5.91946245e-03, -2.89130987e-03],\n",
       "        [-6.24556809e-03,  1.80357640e-02, -1.59373921e-03,\n",
       "         -1.77309144e-02,  8.22292468e-03, -1.22107924e-02,\n",
       "          2.08730531e-03, -1.95971949e-02, -1.32867350e-02,\n",
       "          1.96674942e-03,  7.37620703e-03,  1.67676832e-03,\n",
       "         -1.21419028e-03, -3.61354090e-03, -1.47854975e-02,\n",
       "         -7.19910170e-03, -4.60712436e-03,  1.05710575e-02,\n",
       "          3.43553024e-03, -1.76305369e-02,  2.96808209e-03,\n",
       "         -4.49916372e-03, -8.53009293e-03, -4.90501136e-03,\n",
       "          1.03062445e-02,  9.30747954e-03, -8.39665277e-03,\n",
       "         -3.09340215e-03,  3.30493918e-03,  9.75299249e-03],\n",
       "        [-4.95351582e-03, -2.23250559e-03, -1.20823845e-02,\n",
       "         -1.57015467e-02,  8.12314018e-03,  1.35607100e-02,\n",
       "         -7.20650014e-04,  1.00352042e-02,  3.61234118e-03,\n",
       "         -6.45277231e-03,  3.60831462e-03,  1.53487307e-02,\n",
       "         -3.96793468e-04,  1.53672799e-02, -2.61976900e-02,\n",
       "          8.21855100e-03,  8.70010117e-04, -2.99016373e-03,\n",
       "          9.17041764e-04, -1.98758001e-02, -2.37983903e-03,\n",
       "          3.07413397e-03,  1.36139096e-02, -9.98274260e-03,\n",
       "         -8.08800523e-03, -5.02086757e-03,  9.15211157e-03,\n",
       "          3.28710818e-03, -5.30373921e-03,  5.13068924e-03],\n",
       "        [ 1.00234621e-03,  9.75323606e-03, -6.82142119e-03,\n",
       "         -2.55446645e-03, -3.92063884e-03, -1.46348176e-02,\n",
       "          2.96128800e-03,  2.61057260e-03,  5.19322567e-05,\n",
       "         -2.34555616e-03, -1.41526906e-02, -4.20005787e-03,\n",
       "         -3.42010154e-03, -7.97359441e-03, -1.61280910e-03,\n",
       "          4.04059421e-03,  1.88619296e-02,  1.74579275e-03,\n",
       "          2.57562179e-03, -7.44438114e-04, -1.91524496e-02,\n",
       "         -1.75143986e-04,  8.26992133e-04,  2.55316076e-02,\n",
       "         -1.92298884e-03,  3.01609208e-03, -3.46826666e-04,\n",
       "         -1.16867174e-02,  1.14294344e-02,  7.51971902e-03],\n",
       "        [ 7.70141921e-03, -9.57543459e-03,  1.27096495e-02,\n",
       "         -1.90355265e-02,  5.86597427e-03,  2.19024241e-02,\n",
       "         -9.90618721e-03, -5.66317718e-03,  9.91506778e-04,\n",
       "         -5.03670614e-03, -1.55137676e-02,  6.46328662e-04,\n",
       "         -1.06716075e-02,  4.37298772e-03, -9.19454019e-03,\n",
       "          1.54987076e-02, -7.83321753e-03, -3.22075366e-03,\n",
       "          8.13447377e-03, -1.23087843e-02,  2.03880504e-03,\n",
       "          1.24385445e-02, -1.75764971e-02, -4.55038492e-03,\n",
       "          2.59502782e-03,  7.81390149e-03, -1.23724332e-02,\n",
       "         -1.32052230e-02,  5.21174706e-03,  2.96736513e-03],\n",
       "        [ 2.81254553e-03,  4.01651675e-03, -4.83547608e-03,\n",
       "          1.19281977e-02,  2.93368610e-03, -7.14105683e-03,\n",
       "          1.86590275e-02,  4.73887241e-03, -1.19074054e-02,\n",
       "          6.56763909e-03, -9.73781135e-03,  7.91593893e-03,\n",
       "          1.16482352e-02, -7.65293094e-03,  9.63405818e-03,\n",
       "          4.12856100e-03,  8.22154507e-03,  1.89682172e-02,\n",
       "         -2.45311972e-03, -7.53721398e-03, -8.55646094e-03,\n",
       "         -7.44049464e-03,  1.41305280e-03,  1.49868717e-02,\n",
       "          2.77098001e-03,  8.27686305e-03,  1.34238998e-04,\n",
       "          1.45369273e-02, -2.63809898e-03,  2.72043150e-02],\n",
       "        [ 6.38224608e-03, -8.29097914e-03, -9.91611102e-03,\n",
       "          7.78673304e-03, -2.23299325e-03,  7.14131849e-03,\n",
       "          4.73283729e-03, -7.28178781e-04, -8.46486373e-03,\n",
       "         -1.51472679e-02, -4.46093654e-03,  8.58835089e-03,\n",
       "          2.16990055e-03, -1.22469349e-02,  1.73199624e-03,\n",
       "          3.85355920e-03, -8.83819282e-03,  1.53732988e-03,\n",
       "          5.82531361e-04, -1.14296162e-02,  3.71860064e-03,\n",
       "          5.97767645e-03,  1.17274176e-02,  1.42567803e-02,\n",
       "         -1.37743476e-02, -9.37567337e-03,  5.15192625e-03,\n",
       "          5.13820654e-03,  5.15513622e-03,  3.85288265e-02],\n",
       "        [ 9.37173971e-03,  1.68313319e-02,  3.29272383e-02,\n",
       "          1.35944013e-01, -3.12381187e-03,  7.61153968e-03,\n",
       "         -7.71960783e-03, -2.36287850e-03, -4.79912166e-03,\n",
       "          8.38683088e-04,  2.32307839e-02, -1.82871456e-02,\n",
       "          7.44444547e-03, -1.04105930e-02, -4.71702273e-03,\n",
       "          1.08955072e-02,  6.49876281e-04, -1.07746496e-02,\n",
       "         -7.14652122e-03,  6.79708076e-03, -3.30371343e-03,\n",
       "          9.28864441e-03,  2.62146909e-02,  1.46617311e-01,\n",
       "          2.14781324e-02,  6.38492015e-03, -2.02159201e-02,\n",
       "          1.88253735e-03, -6.53496649e-03,  8.54867216e-03]]),\n",
       " 'b1': array([[ 3.24733503e-04],\n",
       "        [-2.53956278e-05],\n",
       "        [-2.10361151e-05],\n",
       "        [ 4.14765784e-06],\n",
       "        [-2.63431963e-05],\n",
       "        [ 3.08295900e-05],\n",
       "        [ 1.60578022e-05],\n",
       "        [ 3.18500675e-04]]),\n",
       " 'W2': array([[-0.04902277,  0.05758485,  0.06413044, -0.05056893,  0.04675575,\n",
       "         -0.05790742, -0.06388152, -0.07202733]]),\n",
       " 'b2': array([[-0.05926849]])}"
      ]
     },
     "execution_count": 53,
     "metadata": {},
     "output_type": "execute_result"
    }
   ],
   "source": [
    "parameters"
   ]
  },
  {
   "cell_type": "code",
   "execution_count": 51,
   "id": "52078fb9",
   "metadata": {},
   "outputs": [
    {
     "name": "stdout",
     "output_type": "stream",
     "text": [
      "Accuracy: 62%\n"
     ]
    }
   ],
   "source": [
    "print ('Accuracy: %d' % float((np.dot(Y,y_predL.T) + np.dot(1-Y,1-y_predL.T))/float(Y.size)*100) + '%')"
   ]
  },
  {
   "cell_type": "code",
   "execution_count": null,
   "id": "88725d31",
   "metadata": {},
   "outputs": [],
   "source": []
  },
  {
   "cell_type": "code",
   "execution_count": 183,
   "id": "711ac73f",
   "metadata": {},
   "outputs": [],
   "source": [
    "#predictions = (predictions > 0.5).astype(int)"
   ]
  },
  {
   "cell_type": "code",
   "execution_count": 184,
   "id": "67469854",
   "metadata": {},
   "outputs": [
    {
     "name": "stdout",
     "output_type": "stream",
     "text": [
      "count 0 = 569\n",
      "count 1 = 0\n"
     ]
    }
   ],
   "source": [
    "print(\"count 0 = {}\".format(np.count_nonzero(predict == 0)))\n",
    "print(\"count 1 = {}\".format(np.count_nonzero(predict == 1)))"
   ]
  },
  {
   "cell_type": "code",
   "execution_count": 142,
   "id": "54b42d01",
   "metadata": {},
   "outputs": [
    {
     "data": {
      "text/plain": [
       "<AxesSubplot:>"
      ]
     },
     "execution_count": 142,
     "metadata": {},
     "output_type": "execute_result"
    },
    {
     "data": {
      "image/png": "[encoded data removed]",
      "text/plain": [
       "<Figure size 432x288 with 2 Axes>"
      ]
     },
     "metadata": {
      "needs_background": "light"
     },
     "output_type": "display_data"
    }
   ],
   "source": [
    "# Calcul de la matrice de confusion \n",
    "conf_matrix = tf.math.confusion_matrix(labels=y, predictions=predictions.T)\n",
    "\n",
    "# Représentation graphique de la matrice de confusion\n",
    "sns.heatmap(conf_matrix, annot= True)"
   ]
  },
  {
   "cell_type": "code",
   "execution_count": 143,
   "id": "85f4a2e9",
   "metadata": {},
   "outputs": [
    {
     "data": {
      "text/plain": [
       "<matplotlib.legend.Legend at 0x16206f65ac0>"
      ]
     },
     "execution_count": 143,
     "metadata": {},
     "output_type": "execute_result"
    },
    {
     "data": {
      "image/png": "[encoded data removed]",
      "text/plain": [
       "<Figure size 432x288 with 1 Axes>"
      ]
     },
     "metadata": {
      "needs_background": "light"
     },
     "output_type": "display_data"
    }
   ],
   "source": [
    "plt.title('Performance du model perceptron de Numpy')\n",
    "\n",
    "plt.plot(list(predictions.T)[:100], label='Prediction')\n",
    "plt.plot(list(y)[:100], label='True')\n",
    "plt.legend()"
   ]
  },
  {
   "cell_type": "raw",
   "id": "aedc7522",
   "metadata": {},
   "source": [
    "Nous avons un accuracy de 94% sur la preceptron multicouche de keras et de 62% sur celui de numpy. "
   ]
  },
  {
   "cell_type": "code",
   "execution_count": null,
   "id": "376afa67",
   "metadata": {},
   "outputs": [],
   "source": []
  }
 ],
 "metadata": {
  "kernelspec": {
   "display_name": "Python 3",
   "language": "python",
   "name": "python3"
  },
  "language_info": {
   "codemirror_mode": {
    "name": "ipython",
    "version": 3
   },
   "file_extension": ".py",
   "mimetype": "text/x-python",
   "name": "python",
   "nbconvert_exporter": "python",
   "pygments_lexer": "ipython3",
   "version": "3.8.10"
  }
 },
 "nbformat": 4,
 "nbformat_minor": 5
}
